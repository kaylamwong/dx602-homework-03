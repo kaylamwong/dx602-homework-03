{
  "cells": [
    {
      "cell_type": "markdown",
      "metadata": {
        "id": "cQjA5l-aQO1a"
      },
      "source": [
        "# DX 602 Week 3 Homework\n",
        "\n"
      ]
    },
    {
      "cell_type": "markdown",
      "metadata": {
        "id": "426pIj7sCauy"
      },
      "source": [
        "## Introduction\n",
        "\n",
        "Practice is a large part of becoming fluent in a programming language.\n",
        "In this module, you will be assigned regular coding homework to practice Python.\n",
        "If these problems seem too easy to you, try to answer them faster, and make sure to check the auto-grader feedback to confirm the correctness of your answers.\n",
        "Like with spoken languages, fluency (speed) is highly correlated with proficiency.\n",
        "But it is important to answer the problems correctly first, then quickly.\n"
      ]
    },
    {
      "cell_type": "markdown",
      "metadata": {
        "id": "JMMX812EfHcI"
      },
      "source": [
        "## Instructions\n",
        "\n",
        "You should replace every instance of \"...\" below.\n",
        "These are where you are expected to write code to answer each problem.\n",
        "\n",
        "After some of the problems, there are extra code cells that will test functions that you wrote so you can quickly see how they run on an example.\n",
        "If your code works on these examples, it is more likely to be correct.\n",
        "However, the autograder will test different examples, so working correctly on these examples does not guarantee full credit for the problem.\n",
        "You may change the example inputs to further test your functions on your own.\n",
        "You may also add your own example inputs for problems where we did not provide any.\n",
        "\n",
        "Be sure to run each code block after you edit it to make sure it runs as expected.\n",
        "When you are done, we strongly recommend you run all the code from scratch (Runtime menu -> Restart and Run all) to make sure your current code works for all problems.\n",
        "\n",
        "If your code raises an exception when run from scratch, it will  interfere with the auto-grader process causing you to lose some or all points for this homework.\n",
        "Please ask for help in YellowDig or schedule an appointment with a learning facilitator if you get stuck.\n"
      ]
    },
    {
      "cell_type": "markdown",
      "metadata": {
        "id": "RDf9OknvCjF8"
      },
      "source": [
        "## Problems"
      ]
    },
    {
      "cell_type": "markdown",
      "metadata": {
        "id": "IZ0W-QBMnLBV"
      },
      "source": [
        "### Problem 1\n",
        "\n",
        "Write a function `p1` that takes in a sequence and returns a list of the values that are not `None`."
      ]
    },
    {
      "cell_type": "code",
      "execution_count": 297,
      "metadata": {
        "id": "teDxcSlJnS34"
      },
      "outputs": [],
      "source": [
        "# YOUR CHANGES HERE\n",
        "\n",
        "def p1(seq) :\n",
        "    # Use a list comprehension to iterate through the sequence (seq)\n",
        "    # and include an item in the new list only if it is not None.\n",
        "    return [item for item in seq if item is not None]\n",
        "\n",
        "\n"
      ]
    },
    {
      "cell_type": "markdown",
      "metadata": {
        "id": "FaLIUkOXqH0M"
      },
      "source": [
        "Test `p1` yourself with this example.\n",
        "Feel free to change the input to further test your function.\n",
        "\n"
      ]
    },
    {
      "cell_type": "code",
      "execution_count": 298,
      "metadata": {
        "id": "1jZXBLhmns--"
      },
      "outputs": [
        {
          "data": {
            "text/plain": [
              "[0, 1, 2, 4, 'a', 'b']"
            ]
          },
          "execution_count": 298,
          "metadata": {},
          "output_type": "execute_result"
        }
      ],
      "source": [
        "p1([0, 1, 2, None, 4, \"a\", \"b\"])"
      ]
    },
    {
      "cell_type": "markdown",
      "metadata": {
        "id": "t9nQxQ06nVCI"
      },
      "source": [
        "### Problem 2\n",
        "\n",
        "Write a function `p2` that takes in a sequence and returns a list of the values that are considered true by Python."
      ]
    },
    {
      "cell_type": "code",
      "execution_count": 299,
      "metadata": {
        "id": "90vL5z5XnigG"
      },
      "outputs": [],
      "source": [
        "# YOUR CHANGES HERE\n",
        "\n",
        "def p2(seq):\n",
        "    # A list comprehension to iterate through the sequence (seq).\n",
        "    # The condition 'if item' checks for Python's truthiness.\n",
        "    # If 'item' is True (or truthy), it's included in the new list.\n",
        "    return [item for item in seq if item]"
      ]
    },
    {
      "cell_type": "markdown",
      "metadata": {
        "id": "TfQqbBupp7WC"
      },
      "source": [
        "Test `p2` yourself with this example.\n",
        "Feel free to change the input to further test your function.\n",
        "\n"
      ]
    },
    {
      "cell_type": "code",
      "execution_count": 300,
      "metadata": {
        "id": "yCOW3O09oHV5"
      },
      "outputs": [
        {
          "data": {
            "text/plain": [
              "[1, 2, 4, 'a', 'b', True]"
            ]
          },
          "execution_count": 300,
          "metadata": {},
          "output_type": "execute_result"
        }
      ],
      "source": [
        "p2([0, 1, 2, None, 4, \"a\", \"b\", False, True])"
      ]
    },
    {
      "cell_type": "markdown",
      "metadata": {
        "id": "9UcDWOzDnpi3"
      },
      "source": [
        "### Problem 3\n",
        "\n",
        "Write a function `p3` that takes in a sequence, and returns a list of the values that are both not `None` and considered false by Python."
      ]
    },
    {
      "cell_type": "code",
      "execution_count": 301,
      "metadata": {
        "id": "xTB_tXMTobVs"
      },
      "outputs": [],
      "source": [
        "# YOUR CHANGES HERE\n",
        "\n",
        "def p3(seq):\n",
        "    # A list comprehension that iterates through the sequence (seq).\n",
        "    # The filter requires both conditions to be true:\n",
        "    # 1. item is not None (Excludes the specific value None)\n",
        "    # 2. not item (Checks if the value is Falsy/False)\n",
        "    return [item for item in seq if item is not None and not item]\n"
      ]
    },
    {
      "cell_type": "markdown",
      "metadata": {
        "id": "TneAPd0Bpxmy"
      },
      "source": [
        "Test `p3` yourself with this example.\n",
        "Feel free to change the input to further test your function."
      ]
    },
    {
      "cell_type": "code",
      "execution_count": 302,
      "metadata": {
        "id": "tWHqPjrXofNi"
      },
      "outputs": [
        {
          "data": {
            "text/plain": [
              "[0, False]"
            ]
          },
          "execution_count": 302,
          "metadata": {},
          "output_type": "execute_result"
        }
      ],
      "source": [
        "p3([0, 1, 2, None, 4, \"a\", \"b\", False, True])"
      ]
    },
    {
      "cell_type": "markdown",
      "metadata": {
        "id": "_2YZZEOSCliv"
      },
      "source": [
        "### Problem 4\n",
        "\n",
        "Write a function `p4` that takes in input $n$ and returns the sum from zero through $n-1$ (inclusive).\n",
        "There is a closed form solution to these sums, but please calculate the sum directly."
      ]
    },
    {
      "cell_type": "code",
      "execution_count": 303,
      "metadata": {
        "id": "Mhy3u6QKDBWJ"
      },
      "outputs": [],
      "source": [
        "# YOUR CHANGES HERE\n",
        "\n",
        "def p4(n):\n",
        "    # The range(n) function generates a sequence of numbers \n",
        "    # from 0 up to (but not including) n. \n",
        "    # This precisely covers the numbers 0, 1, 2, ..., n-1.\n",
        "    # The sum() function calculates the total of all numbers in that range.\n",
        "    return sum(range(n))"
      ]
    },
    {
      "cell_type": "markdown",
      "metadata": {
        "id": "cIa4pQTKo9Zt"
      },
      "source": [
        "Test your code with the following examples.\n",
        "Feel free to change the inputs to further test your function."
      ]
    },
    {
      "cell_type": "code",
      "execution_count": 304,
      "metadata": {
        "id": "xAHEoxzuoqyO"
      },
      "outputs": [
        {
          "data": {
            "text/plain": [
              "0"
            ]
          },
          "execution_count": 304,
          "metadata": {},
          "output_type": "execute_result"
        }
      ],
      "source": [
        "# p4(0) should be 0\n",
        "p4(0)"
      ]
    },
    {
      "cell_type": "code",
      "execution_count": 305,
      "metadata": {
        "id": "A-5b6g57osqv"
      },
      "outputs": [
        {
          "data": {
            "text/plain": [
              "0"
            ]
          },
          "execution_count": 305,
          "metadata": {},
          "output_type": "execute_result"
        }
      ],
      "source": [
        "# p4(1) should also be 0\n",
        "p4(1)"
      ]
    },
    {
      "cell_type": "code",
      "execution_count": 306,
      "metadata": {
        "id": "m9TS13UsotoN"
      },
      "outputs": [
        {
          "data": {
            "text/plain": [
              "1"
            ]
          },
          "execution_count": 306,
          "metadata": {},
          "output_type": "execute_result"
        }
      ],
      "source": [
        "# p4(2) should be 0+1=1\n",
        "p4(2)"
      ]
    },
    {
      "cell_type": "code",
      "execution_count": 307,
      "metadata": {
        "id": "-uoB3IAKoutu"
      },
      "outputs": [
        {
          "data": {
            "text/plain": [
              "45"
            ]
          },
          "execution_count": 307,
          "metadata": {},
          "output_type": "execute_result"
        }
      ],
      "source": [
        "# p4(10) should be 0+1+2+3+4+5+6+7+8+9=45\n",
        "p4(10)"
      ]
    },
    {
      "cell_type": "markdown",
      "metadata": {
        "id": "baTz4pVWDC9U"
      },
      "source": [
        "### Problem 5\n",
        "\n",
        "Write a function `p5` that takes in input $n$ and returns the sum for integer $k$ from zero through $n-1$ (inclusive) except when $k$ is a multiple of five."
      ]
    },
    {
      "cell_type": "code",
      "execution_count": 308,
      "metadata": {
        "id": "1-JbJbiNDPgN"
      },
      "outputs": [],
      "source": [
        "# YOUR CHANGES HERE\n",
        "\n",
        "def p5(n):\n",
        "    # Sums integers k from the range 0 up to n (exclusive).\n",
        "    # The condition 'if k % 5 != 0' filters out any number k \n",
        "    # where the remainder when divided by 5 is zero (i.e., multiples of five).\n",
        "    return sum(k for k in range(n) if k % 5 != 0)\n"
      ]
    },
    {
      "cell_type": "markdown",
      "metadata": {
        "id": "VB0OTXs1rjgP"
      },
      "source": [
        "Test your code with the following examples.\n",
        "Feel free to change the inputs to further test your function."
      ]
    },
    {
      "cell_type": "code",
      "execution_count": 309,
      "metadata": {
        "id": "-nZbMHZ7rkwo"
      },
      "outputs": [
        {
          "data": {
            "text/plain": [
              "0"
            ]
          },
          "execution_count": 309,
          "metadata": {},
          "output_type": "execute_result"
        }
      ],
      "source": [
        "# p5(0) should be 0\n",
        "p5(0)"
      ]
    },
    {
      "cell_type": "code",
      "execution_count": 310,
      "metadata": {
        "id": "8d-NwdpArqCI"
      },
      "outputs": [
        {
          "data": {
            "text/plain": [
              "10"
            ]
          },
          "execution_count": 310,
          "metadata": {},
          "output_type": "execute_result"
        }
      ],
      "source": [
        "# p5(6) should be 1+2+3+4=10 (note 5 skipped)\n",
        "p5(6)"
      ]
    },
    {
      "cell_type": "markdown",
      "metadata": {
        "id": "DHuDHuO6DUgr"
      },
      "source": [
        "### Problem 6\n",
        "\n",
        "Write a function `p6` that takes in a list of dictionaries, and returns the dictionary with the highest \"score\" key."
      ]
    },
    {
      "cell_type": "code",
      "execution_count": 312,
      "metadata": {
        "id": "uWTJJBu2Dapd"
      },
      "outputs": [],
      "source": [
        "# YOUR CHANGES HERE\n",
        "\n",
        "def p6(dictionaries):\n",
        "    \"\"\"\n",
        "    Returns the dictionary in the list with the highest 'score' value.\n",
        "    Assumes the list is not empty and all dictionaries contain the 'score' key.\n",
        "    \"\"\"\n",
        "    \n",
        "    # Use the max() function. \n",
        "    # The key=lambda d: d['score'] tells max() to compare dictionaries \n",
        "    # based only on the value of their 'score' key.\n",
        "    return max(dictionaries, key=lambda d: d['score'])\n",
        "    \n"
      ]
    },
    {
      "cell_type": "markdown",
      "metadata": {
        "id": "c_Umxb6jsBCT"
      },
      "source": [
        "Test your code with the following example.\n",
        "Feel free to change the inputs to further test your function."
      ]
    },
    {
      "cell_type": "code",
      "execution_count": 314,
      "metadata": {
        "id": "6rvuO-6UsAo1"
      },
      "outputs": [
        {
          "data": {
            "text/plain": [
              "{'score': 13.1}"
            ]
          },
          "execution_count": 314,
          "metadata": {},
          "output_type": "execute_result"
        }
      ],
      "source": [
        "p6([{\"score\": 1},\n",
        "    {\"score\": 13.1},\n",
        "    {\"score\": 9}])"
      ]
    },
    {
      "cell_type": "markdown",
      "metadata": {
        "id": "PEhlpGyAmA6C"
      },
      "source": [
        "### Problem 7\n",
        "\n",
        "The list `p7` contains dictionaries with keys \"a\", \"b\", and \"c\".\n",
        "Sort `p7` by the value of the \"c\" key."
      ]
    },
    {
      "cell_type": "code",
      "execution_count": 271,
      "metadata": {
        "id": "3Sp5OQEImUN_"
      },
      "outputs": [],
      "source": [
        "# do not change this initialization\n",
        "p7 = [{\"a\": 1, \"b\": 52, \"c\": 513},\n",
        "      {\"a\": 2, \"b\": 52, \"c\": 123},\n",
        "      {\"a\": 3, \"b\": 52, \"c\": 999},\n",
        "      {\"a\": 4, \"b\": 52, \"c\": 456},\n",
        "      {\"a\": 5, \"b\": 52, \"c\": 321}]"
      ]
    },
    {
      "cell_type": "code",
      "execution_count": 315,
      "metadata": {
        "id": "Rle-GnKwmoFV"
      },
      "outputs": [],
      "source": [
        "# YOUR CHANGES HERE\n",
        "\n",
        "# sort p7 here\n",
        "# Sort p7 in-place using a lambda function to extract the value of the \"c\" key for comparison.\n",
        "# This sorts the list in ascending order based on the 'c' values (123, 321, 456, 513, 999).\n",
        "\n",
        "p7.sort(key=lambda d: d[\"c\"])"
      ]
    },
    {
      "cell_type": "markdown",
      "metadata": {
        "id": "CfEmFg6WsZIM"
      },
      "source": [
        "Check the final value of `p7`."
      ]
    },
    {
      "cell_type": "code",
      "execution_count": 317,
      "metadata": {
        "id": "tbD9BaI5sdFW"
      },
      "outputs": [
        {
          "data": {
            "text/plain": [
              "[{'a': 2, 'b': 52, 'c': 123},\n",
              " {'a': 5, 'b': 52, 'c': 321},\n",
              " {'a': 4, 'b': 52, 'c': 456},\n",
              " {'a': 1, 'b': 52, 'c': 513},\n",
              " {'a': 3, 'b': 52, 'c': 999}]"
            ]
          },
          "execution_count": 317,
          "metadata": {},
          "output_type": "execute_result"
        }
      ],
      "source": [
        "p7"
      ]
    },
    {
      "cell_type": "markdown",
      "metadata": {
        "id": "ztO3mVOfksGg"
      },
      "source": [
        "### Problem 8\n",
        "\n",
        "Write a function `p8` that takes in a sequence of dictionaries and returns its contents in a list sorted by the \"score\" key.\n"
      ]
    },
    {
      "cell_type": "code",
      "execution_count": 318,
      "metadata": {
        "id": "YEq-hQMUlnLG"
      },
      "outputs": [],
      "source": [
        "# YOUR CHANGES HERE\n",
        "\n",
        "def p8(seq):\n",
        "    \"\"\"\n",
        "    Takes a sequence of dictionaries and returns a new list of those dictionaries, \n",
        "    sorted in ascending order based on the value of the 'score' key.\n",
        "    \"\"\"\n",
        "    # Use sorted() to create a new list.\n",
        "    # The key=lambda d: d['score'] tells sorted() to use the 'score' value \n",
        "    # of each dictionary (d) for comparison.\n",
        "    return sorted(seq, key=lambda d: d['score'])"
      ]
    },
    {
      "cell_type": "markdown",
      "metadata": {
        "id": "y2caKDwasxaH"
      },
      "source": [
        "Test your code with the following examples.\n",
        "Feel free to change the inputs to further test your function."
      ]
    },
    {
      "cell_type": "code",
      "execution_count": 319,
      "metadata": {
        "id": "5nAyUIwsszXs"
      },
      "outputs": [
        {
          "data": {
            "text/plain": [
              "[]"
            ]
          },
          "execution_count": 319,
          "metadata": {},
          "output_type": "execute_result"
        }
      ],
      "source": [
        "p8([])"
      ]
    },
    {
      "cell_type": "code",
      "execution_count": 320,
      "metadata": {
        "id": "dR_hzfBas03e"
      },
      "outputs": [
        {
          "data": {
            "text/plain": [
              "[{'score': 1}, {'score': 3}]"
            ]
          },
          "execution_count": 320,
          "metadata": {},
          "output_type": "execute_result"
        }
      ],
      "source": [
        "p8([{\"score\": 3}, {\"score\": 1}])"
      ]
    },
    {
      "cell_type": "code",
      "execution_count": 321,
      "metadata": {
        "id": "jxiZMLsqs7X5"
      },
      "outputs": [
        {
          "data": {
            "text/plain": [
              "[{'score': 3}, {'score': 5}, {'score': 6}]"
            ]
          },
          "execution_count": 321,
          "metadata": {},
          "output_type": "execute_result"
        }
      ],
      "source": [
        "# this input sequence is a tuple, so it does not have a sort method.\n",
        "\n",
        "p8_tuple_example = ({\"score\": 5}, {\"score\": 6}, {\"score\": 3})\n",
        "\n",
        "p8(p8_tuple_example)"
      ]
    },
    {
      "cell_type": "markdown",
      "metadata": {
        "id": "GbYL7RlmDdgw"
      },
      "source": [
        "### Problem 9\n",
        "\n",
        "Write a function `p9` that takes in a list of dictionaries, and returns a list of the five dictionaries with the highest \"score\" key.\n",
        "If there are fewer than five dictionaries in the list, return a list with all of them.\n",
        "The list should be sorted with the highest scores first.\n"
      ]
    },
    {
      "cell_type": "code",
      "execution_count": 322,
      "metadata": {
        "id": "LCatOFAUDkhC"
      },
      "outputs": [],
      "source": [
        "# YOUR CHANGES HERE\n",
        "\n",
        "def p9(dictionaries):\n",
        "    \"\"\"\n",
        "    Takes a list of dictionaries and returns a list of the top 5 dictionaries \n",
        "    with the highest 'score' key, sorted highest first. If there are fewer \n",
        "    than 5, all dictionaries are returned, sorted.\n",
        "    \"\"\"\n",
        "    \n",
        "    # Step 1: Sort the list by 'score' in reverse order (descending: highest first).\n",
        "    # The sorted() function returns a new list, leaving the original list unchanged.\n",
        "    sorted_list = sorted(\n",
        "        dictionaries, \n",
        "        key=lambda d: d['score'], \n",
        "        reverse=True\n",
        "    )\n",
        "    \n",
        "    # Step 2: Slice the sorted list to get the first five elements.\n",
        "    # Python list slicing [0:5] safely handles lists shorter than 5 elements \n",
        "    # by returning all elements.\n",
        "    return sorted_list[:5]"
      ]
    },
    {
      "cell_type": "markdown",
      "metadata": {
        "id": "K_xeypNTtpda"
      },
      "source": [
        "Test your code with the following examples.\n",
        "Feel free to change the inputs to further test your function."
      ]
    },
    {
      "cell_type": "code",
      "execution_count": 323,
      "metadata": {
        "id": "RQwDteRUuPtE"
      },
      "outputs": [
        {
          "data": {
            "text/plain": [
              "[{'score': 0},\n",
              " {'score': 1},\n",
              " {'score': 2},\n",
              " {'score': 3},\n",
              " {'score': 4},\n",
              " {'score': 5},\n",
              " {'score': 6},\n",
              " {'score': 7},\n",
              " {'score': 8},\n",
              " {'score': 9}]"
            ]
          },
          "execution_count": 323,
          "metadata": {},
          "output_type": "execute_result"
        }
      ],
      "source": [
        "p9_example_input = [{\"score\": i} for i in range(10)]\n",
        "p9_example_input"
      ]
    },
    {
      "cell_type": "code",
      "execution_count": 324,
      "metadata": {
        "id": "J6JWdCbpuie5"
      },
      "outputs": [
        {
          "data": {
            "text/plain": [
              "[{'score': 9}, {'score': 8}, {'score': 7}, {'score': 6}, {'score': 5}]"
            ]
          },
          "execution_count": 324,
          "metadata": {},
          "output_type": "execute_result"
        }
      ],
      "source": [
        "p9(p9_example_input)"
      ]
    },
    {
      "cell_type": "markdown",
      "metadata": {
        "id": "DU19eU4CDsfl"
      },
      "source": [
        "### Problem 10\n",
        "\n",
        "Write a function `p10` that takes in a list of dictionaries and a score function, and returns the dictionary with the highest output when passed to the score function."
      ]
    },
    {
      "cell_type": "code",
      "execution_count": 325,
      "metadata": {
        "id": "XpxH3dGWDux_"
      },
      "outputs": [],
      "source": [
        "# YOUR CHANGES HERE\n",
        "\n",
        "def p10(dictionaries, score_function):\n",
        "    \"\"\"\n",
        "    Takes a list of dictionaries and a score function, and returns the dictionary \n",
        "    that yields the highest score when passed to the score function.\n",
        "    \"\"\"\n",
        "    \n",
        "    # Use the max() function. \n",
        "    # By setting key=score_function, max() compares the dictionaries \n",
        "    # based on the value returned by score_function(dictionary). \n",
        "    # It then returns the dictionary that produced the largest value.\n",
        "    return max(dictionaries, key=score_function)"
      ]
    },
    {
      "cell_type": "markdown",
      "metadata": {
        "id": "HW4vggmXuw1v"
      },
      "source": [
        "Test your code with the following examples.\n",
        "Feel free to change the inputs to further test your function."
      ]
    },
    {
      "cell_type": "code",
      "execution_count": 326,
      "metadata": {
        "id": "u_ZFPFEJ4AU1"
      },
      "outputs": [
        {
          "data": {
            "text/plain": [
              "{'score': 5}"
            ]
          },
          "execution_count": 326,
          "metadata": {},
          "output_type": "execute_result"
        }
      ],
      "source": [
        "p10([{\"score\": 3}, {\"score\": 5}], lambda r: r[\"score\"])"
      ]
    },
    {
      "cell_type": "code",
      "execution_count": 327,
      "metadata": {
        "id": "eJYKi6QE4HkR"
      },
      "outputs": [
        {
          "data": {
            "text/plain": [
              "{'a': 3}"
            ]
          },
          "execution_count": 327,
          "metadata": {},
          "output_type": "execute_result"
        }
      ],
      "source": [
        "# note this sorts by negative \"a\"\n",
        "p10([{\"a\": 5}, {\"a\": 3}], lambda r: -r[\"a\"])"
      ]
    },
    {
      "cell_type": "markdown",
      "metadata": {
        "id": "6BrPZnxLD0Oe"
      },
      "source": [
        "### Problem 11\n",
        "\n",
        "Write a function `p11` implementing the factorial function using `range()` and `math.prod`.\n",
        "Do not use `math.factorial` for this problem.\n"
      ]
    },
    {
      "cell_type": "code",
      "execution_count": 328,
      "metadata": {},
      "outputs": [],
      "source": [
        "# DO NOT CHANGE\n",
        "\n",
        "import math"
      ]
    },
    {
      "cell_type": "code",
      "execution_count": 329,
      "metadata": {
        "id": "xfw7S3gnEDg-"
      },
      "outputs": [],
      "source": [
        "# YOUR CHANGES HERE\n",
        "\n",
        "def p11(n):\n",
        "    \"\"\"\n",
        "    Calculates the factorial of n (n!) using range() and math.prod().\n",
        "    The factorial is the product of all positive integers less than or equal to n.\n",
        "    \"\"\"\n",
        "    # 1. Handle the base case: 0! = 1\n",
        "    if n == 0:\n",
        "        return 1\n",
        "    \n",
        "    # 2. Use range(1, n + 1) to generate the sequence 1, 2, 3, ..., n.\n",
        "    # 3. Use math.prod() to multiply all numbers in that sequence.\n",
        "    return math.prod(range(1, n + 1))\n",
        "    "
      ]
    },
    {
      "cell_type": "markdown",
      "metadata": {
        "id": "WUeDRHz1EI36"
      },
      "source": [
        "### Problem 12\n",
        "\n",
        "Write a function `p12` taking in a sequence of dictionaries and a column name (dictionary key), and returns the set of distinct values in that column (values for that dictionary key)."
      ]
    },
    {
      "cell_type": "code",
      "execution_count": 330,
      "metadata": {
        "id": "Msv-S8sqEWQn"
      },
      "outputs": [],
      "source": [
        "# YOUR CHANGES HERE\n",
        "\n",
        "def p12(dictionaries, key):\n",
        "    \"\"\"\n",
        "    Takes a sequence of dictionaries and a column name (key), \n",
        "    and returns the set of distinct values for that key.\n",
        "    \"\"\"\n",
        "    # Use a set comprehension to iterate through each dictionary (d) in the sequence.\n",
        "    # d[key] extracts the value for the specified key.\n",
        "    # The set structure automatically ensures only distinct values are collected.\n",
        "    return {d[key] for d in dictionaries}\n"
      ]
    },
    {
      "cell_type": "markdown",
      "metadata": {
        "id": "_9fnH8_oEdbO"
      },
      "source": [
        "### Problem 13\n",
        "\n",
        "Write a function `p13` taking in a sequence of dictionaries and a column name (dictionary key), and returns the first dictionary in the sequence where that column is an empty string or `None`.\n",
        "If no such dictionary is in the sequence, return `None`.\n",
        "\n",
        "This function is essentially looking for the first row with missing data for that column.\n"
      ]
    },
    {
      "cell_type": "code",
      "execution_count": 331,
      "metadata": {
        "id": "yc26DedyE2JT"
      },
      "outputs": [],
      "source": [
        "# YOUR CHANGES HERE\n",
        "\n",
        "def p13(dictionaries, key):\n",
        "    \"\"\"\n",
        "    Returns the first dictionary where the value for the specified key \n",
        "    is either an empty string (\"\") or None. Returns None if no such dictionary exists.\n",
        "    \"\"\"\n",
        "    \n",
        "    # The next() function iterates over the generator expression.\n",
        "    # The generator yields dictionaries (d) only if:\n",
        "    # 1. d[key] is None \n",
        "    # OR\n",
        "    # 2. d[key] is the empty string \"\"\n",
        "    # The optional second argument, None, is the default value returned \n",
        "    # if the generator is exhausted (i.e., no matching dictionary is found).\n",
        "    return next(\n",
        "        (d for d in dictionaries if d.get(key) is None or d.get(key) == \"\"),\n",
        "        None\n",
        "    )"
      ]
    },
    {
      "cell_type": "markdown",
      "metadata": {
        "id": "UfE3-jyH4b0c"
      },
      "source": [
        "### Problem 14\n",
        "\n",
        "In the following code, what value is printed out?\n",
        "Set `p14` to that value.\n",
        "\n",
        "```\n",
        "def f(x):\n",
        "    x = x * 3\n",
        "    return x\n",
        "\n",
        "def g(y):\n",
        "    f(y)\n",
        "    return y\n",
        "\n",
        "x = 4\n",
        "f(x)\n",
        "g(x)\n",
        "print(x)\n",
        "```\n"
      ]
    },
    {
      "cell_type": "code",
      "execution_count": 332,
      "metadata": {
        "id": "9mv3iK4NFL_d"
      },
      "outputs": [],
      "source": [
        "# YOUR CHANGES HERE\n",
        "\n",
        "p14 = 4"
      ]
    },
    {
      "cell_type": "markdown",
      "metadata": {
        "id": "zhBJbwqEFO2G"
      },
      "source": [
        "### Problem 15\n",
        "\n",
        "In the following code, what value is printed out?\n",
        "Set `p15` to that value.\n",
        "\n",
        "```\n",
        "def f(x):\n",
        "    def g(y):\n",
        "        def h(x):\n",
        "            return x + y\n",
        "\n",
        "        return h(x)\n",
        "\n",
        "    x = g(2)\n",
        "    return g(3)\n",
        "\n",
        "print(f(5))\n",
        "```\n"
      ]
    },
    {
      "cell_type": "code",
      "execution_count": 344,
      "metadata": {
        "id": "C9QHxIqiGHzX"
      },
      "outputs": [],
      "source": [
        "# YOUR CHANGES HERE\n",
        "\n",
        "p15 = 10"
      ]
    },
    {
      "cell_type": "markdown",
      "metadata": {
        "id": "bGZiPZazGI7u"
      },
      "source": [
        "### Problem 16\n",
        "\n",
        "Set `p16` to the number of lines printed out by the following code.\n",
        "Try to answer this without actually running the code.\n",
        "\n",
        "```\n",
        "d = {\"a\": \"b\", \"c\": 3, \"d\": 3}\n",
        "for k in d:\n",
        "    print(k, d[k])\n",
        "```"
      ]
    },
    {
      "cell_type": "code",
      "execution_count": 345,
      "metadata": {
        "id": "u1gwOF_uGL_2"
      },
      "outputs": [],
      "source": [
        "# YOUR CHANGES HERE\n",
        "\n",
        "p16 = 3 "
      ]
    },
    {
      "cell_type": "markdown",
      "metadata": {
        "id": "fCMgnJgoGMwV"
      },
      "source": [
        "### Problem 17\n",
        "\n",
        "Set `p17` to the number of entries in the following set.\n",
        "Try to answer this without running any code.\n",
        "\n",
        "```\n",
        "{1, 1, 2, 2, 3, 3, 3, 3, 3, 4, 4, 4, 5}\n",
        "```"
      ]
    },
    {
      "cell_type": "code",
      "execution_count": 346,
      "metadata": {
        "id": "Z_jb-O9nGOJo"
      },
      "outputs": [],
      "source": [
        "# YOUR CHANGES HERE\n",
        "\n",
        "p17 = 5 "
      ]
    },
    {
      "cell_type": "markdown",
      "metadata": {
        "id": "hQHBExBMGOxw"
      },
      "source": [
        "### Problem 18\n",
        "\n",
        "Write a function `p18` that takes in a list as input, and returns `True` if the length of the list is at least 18, and `False` otherwise."
      ]
    },
    {
      "cell_type": "code",
      "execution_count": 347,
      "metadata": {
        "id": "QrC_w0YGGQRZ"
      },
      "outputs": [],
      "source": [
        "# YOUR CHANGES HERE\n",
        "\n",
        "def p18(input_list):\n",
        "    \"\"\"\n",
        "    Returns True if the length of the list is at least 18 (>= 18), and False otherwise.\n",
        "    \"\"\"\n",
        "    # The comparison itself evaluates to a boolean (True or False), \n",
        "    # which is exactly what we need to return.\n",
        "    return len(input_list) >= 18"
      ]
    },
    {
      "cell_type": "markdown",
      "metadata": {
        "id": "tdB9pO8MGRSa"
      },
      "source": [
        "### Problem 19\n",
        "\n",
        "Write a function `p19` that takes in a list as input and returns `True` if all the entries in the list are numbers between 0.5 and 0.75 and `False` otherwise."
      ]
    },
    {
      "cell_type": "code",
      "execution_count": 1,
      "metadata": {
        "id": "aQ7IcY3VGTac"
      },
      "outputs": [],
      "source": [
        "# YOUR CHANGES HERE\n",
        "\n",
        "def p19(input_list):\n",
        "    \"\"\"\n",
        "    Checks if all entries in the input_list are numbers between 0.5 and 0.75 (exclusive).\n",
        "\n",
        "    Args:\n",
        "        input_list: A list of values.\n",
        "\n",
        "    Returns:\n",
        "        True if all entries are numbers and satisfy 0.5 < x < 0.75, False otherwise.\n",
        "    \"\"\"\n",
        "    # Iterate through each item in the list\n",
        "    for item in input_list:\n",
        "        # Check if the item is not a number (integer or float) or if it falls outside the range (0.5, 0.75)\n",
        "        # Using a strict inequality: 0.5 < item < 0.75\n",
        "        if not (isinstance(item, (int, float)) and 0.5 < item < 0.75):\n",
        "            # If any item fails the condition, return False immediately\n",
        "            return False\n",
        "    \n",
        "    # If the loop completes without finding any item that fails the condition, \n",
        "    # it means all items satisfy the requirement (including the case of an empty list).\n",
        "    return True"
      ]
    },
    {
      "cell_type": "markdown",
      "metadata": {
        "id": "yThSeipVGUSy"
      },
      "source": [
        "### Problem 20\n",
        "\n",
        "Set `p20` to the value of the variable `x` after the following code is run.\n",
        "Try to figure this out without running the code.\n",
        "\n",
        "```\n",
        "x = 7\n",
        "y = 4\n",
        "for z in range(y):\n",
        "    if z:\n",
        "        x = x * z\n",
        "```"
      ]
    },
    {
      "cell_type": "code",
      "execution_count": 354,
      "metadata": {
        "id": "vHmndpn0GWed"
      },
      "outputs": [],
      "source": [
        "# YOUR CHANGES HERE\n",
        "\n",
        "p20 = 42"
      ]
    }
  ],
  "metadata": {
    "colab": {
      "toc_visible": false
    },
    "kernelspec": {
      "display_name": "Python 3",
      "name": "python3"
    },
    "language_info": {
      "codemirror_mode": {
        "name": "ipython",
        "version": 3
      },
      "file_extension": ".py",
      "mimetype": "text/x-python",
      "name": "python",
      "nbconvert_exporter": "python",
      "pygments_lexer": "ipython3",
      "version": "3.12.1"
    }
  },
  "nbformat": 4,
  "nbformat_minor": 0
}
